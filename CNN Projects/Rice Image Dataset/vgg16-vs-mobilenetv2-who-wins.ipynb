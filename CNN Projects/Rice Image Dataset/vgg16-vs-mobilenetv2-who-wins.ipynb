{
 "cells": [
  {
   "cell_type": "code",
   "execution_count": 1,
   "metadata": {
    "_cell_guid": "b1076dfc-b9ad-4769-8c92-a6c4dae69d19",
    "_kg_hide-output": true,
    "_uuid": "8f2839f25d086af736a60e9eeb907d3b93b6e0e5",
    "execution": {
     "iopub.execute_input": "2022-04-29T08:19:45.715951Z",
     "iopub.status.busy": "2022-04-29T08:19:45.714897Z",
     "iopub.status.idle": "2022-04-29T08:20:35.610091Z",
     "shell.execute_reply": "2022-04-29T08:20:35.607525Z",
     "shell.execute_reply.started": "2022-04-29T08:19:45.715840Z"
    },
    "jupyter": {
     "outputs_hidden": true
    },
    "papermill": {
     "duration": 46.776541,
     "end_time": "2022-04-29T04:11:35.397402",
     "exception": false,
     "start_time": "2022-04-29T04:10:48.620861",
     "status": "completed"
    },
    "tags": []
   },
   "outputs": [
    {
     "name": "stderr",
     "output_type": "stream",
     "text": [
      "C:\\Suneel\\Anaconda\\envs\\modelling\\lib\\site-packages\\numpy\\_distributor_init.py:32: UserWarning: loaded more than 1 DLL from .libs:\n",
      "C:\\Suneel\\Anaconda\\envs\\modelling\\lib\\site-packages\\numpy\\.libs\\libopenblas.PYQHXLVVQ7VESDPUVUADXEVJOBGHJPAY.gfortran-win_amd64.dll\n",
      "C:\\Suneel\\Anaconda\\envs\\modelling\\lib\\site-packages\\numpy\\.libs\\libopenblas.WCDJNK7YVMPZQ2ME2ZZHJJRJ3JIKNDB7.gfortran-win_amd64.dll\n",
      "  stacklevel=1)\n"
     ]
    }
   ],
   "source": [
    "#Source of this work : https://www.kaggle.com/code/arnavr10880/vgg16-vs-mobilenetv2-who-wins\n",
    "\n",
    "import numpy as np # linear algebra\n",
    "import pandas as pd # data processing, CSV file I/O (e.g. pd.read_csv)\n",
    "\n",
    "import os\n",
    "for dirname, _, filenames in os.walk('/Rice_Image_Dataset'):\n",
    "    for filename in filenames:\n",
    "        print(os.path.join(dirname, filename))"
   ]
  },
  {
   "cell_type": "markdown",
   "metadata": {
    "papermill": {
     "duration": 0.134075,
     "end_time": "2022-04-29T04:11:35.667231",
     "exception": false,
     "start_time": "2022-04-29T04:11:35.533156",
     "status": "completed"
    },
    "tags": []
   },
   "source": [
    "# Image Classification\n",
    "\n",
    "Image classification is done by taking the help of Convolutional Neural Network (CNN) which try to detect different features (edges, lines initially and then their combinations later in their depth) from the images that are passed to them. The image is passed through different layers of filters. As the image is passed to the subsequent deep layers, more complicated features are extracted and identified."
   ]
  },
  {
   "cell_type": "markdown",
   "metadata": {
    "papermill": {
     "duration": 0.132495,
     "end_time": "2022-04-29T04:11:35.934494",
     "exception": false,
     "start_time": "2022-04-29T04:11:35.801999",
     "status": "completed"
    },
    "tags": []
   },
   "source": [
    "# Models used\n",
    "\n",
    "The models that are used in this notebook are:\n",
    "\n",
    "- VGG16\n",
    "- MobileNetV2\n",
    "\n",
    "The above models are used here to perform transfer learning on our dataset.\n",
    "\n",
    "### What is transfer learning?\n",
    "\n",
    "Transfer learning is a problem in machine learning in which we try to use the knowledge that we gained by solving one problem on different but related problem.\n",
    "\n",
    "<center><img height=700 width=700 src='https://miro.medium.com/max/1400/1*9GTEzcO8KxxrfutmtsPs3Q.png'></img></center>\n",
    "\n",
    "\n",
    "\n",
    "# About Data\n",
    "\n",
    "This dataset is aimed towards classifying 7 classes: Barhee, Deglet Nour, Sukkary, Rotab Mozafati, Ruthana, Safawi, Sagai using Machine Learning methods."
   ]
  },
  {
   "cell_type": "markdown",
   "metadata": {
    "papermill": {
     "duration": 0.136666,
     "end_time": "2022-04-29T04:11:36.207509",
     "exception": false,
     "start_time": "2022-04-29T04:11:36.070843",
     "status": "completed"
    },
    "tags": []
   },
   "source": [
    "# Setting up the data\n",
    "\n",
    "The data that we have is distributed in two folders:\n",
    "- **Arborio**\n",
    "- **Basmati**\n",
    "- **Ipsala**\n",
    "- **Jasmine**\n",
    "- **Karacadag**\n",
    "\n",
    "But to start, we will be needing 3 folders:\n",
    "- **Training folder**: on which the model will be trained\n",
    "- **Validation folder**: on which we will assess the accuracy of our Neural Network model\n",
    "- **Testing folder**: which can be used for final testing. The model will see this dataset only once.\n",
    "\n",
    "To split our folders into the above 3 sets, we can automate this task using a python library called **split-folders**."
   ]
  },
  {
   "cell_type": "code",
   "execution_count": 2,
   "metadata": {
    "execution": {
     "iopub.execute_input": "2022-04-29T08:22:25.391609Z",
     "iopub.status.busy": "2022-04-29T08:22:25.390333Z",
     "iopub.status.idle": "2022-04-29T08:22:38.751936Z",
     "shell.execute_reply": "2022-04-29T08:22:38.750775Z",
     "shell.execute_reply.started": "2022-04-29T08:22:25.391539Z"
    },
    "papermill": {
     "duration": 15.63831,
     "end_time": "2022-04-29T04:11:51.980029",
     "exception": false,
     "start_time": "2022-04-29T04:11:36.341719",
     "status": "completed"
    },
    "tags": []
   },
   "outputs": [
    {
     "name": "stdout",
     "output_type": "stream",
     "text": [
      "Collecting split-folders\n",
      "  Downloading split_folders-0.5.1-py3-none-any.whl (8.4 kB)\n",
      "Installing collected packages: split-folders\n",
      "Successfully installed split-folders-0.5.1\n",
      "Note: you may need to restart the kernel to use updated packages.\n"
     ]
    },
    {
     "name": "stderr",
     "output_type": "stream",
     "text": [
      "WARNING: Ignoring invalid distribution -tkinter-pymol (c:\\suneel\\anaconda\\envs\\modelling\\dlls)\n",
      "WARNING: Ignoring invalid distribution -tkinter-pymol (c:\\suneel\\anaconda\\envs\\modelling\\dlls)\n",
      "WARNING: Ignoring invalid distribution -tkinter-pymol (c:\\suneel\\anaconda\\envs\\modelling\\dlls)\n",
      "WARNING: Ignoring invalid distribution -tkinter-pymol (c:\\suneel\\anaconda\\envs\\modelling\\dlls)\n",
      "WARNING: Ignoring invalid distribution -tkinter-pymol (c:\\suneel\\anaconda\\envs\\modelling\\dlls)\n",
      "WARNING: Ignoring invalid distribution -tkinter-pymol (c:\\suneel\\anaconda\\envs\\modelling\\dlls)\n",
      "WARNING: You are using pip version 21.3.1; however, version 22.1.2 is available.\n",
      "You should consider upgrading via the 'C:\\Suneel\\Anaconda\\envs\\modelling\\python.exe -m pip install --upgrade pip' command.\n"
     ]
    }
   ],
   "source": [
    "pip install split-folders"
   ]
  },
  {
   "cell_type": "code",
   "execution_count": 4,
   "metadata": {
    "execution": {
     "iopub.execute_input": "2022-04-29T08:22:41.261563Z",
     "iopub.status.busy": "2022-04-29T08:22:41.261276Z",
     "iopub.status.idle": "2022-04-29T08:27:58.521357Z",
     "shell.execute_reply": "2022-04-29T08:27:58.519990Z",
     "shell.execute_reply.started": "2022-04-29T08:22:41.261533Z"
    },
    "papermill": {
     "duration": 225.921163,
     "end_time": "2022-04-29T04:15:38.037136",
     "exception": false,
     "start_time": "2022-04-29T04:11:52.115973",
     "status": "completed"
    },
    "tags": []
   },
   "outputs": [
    {
     "name": "stderr",
     "output_type": "stream",
     "text": [
      "Copying files: 75000 files [02:20, 533.50 files/s] \n"
     ]
    }
   ],
   "source": [
    "import splitfolders\n",
    "\n",
    "# first we specify the folder directory that we want to split\n",
    "# then we specify the output folder\n",
    "# and we provide the ratio of split (here 70% for training, 20% for validation and 10% for testing)\n",
    "splitfolders.ratio('./Rice_Image_Dataset', output=\"data\", seed=1337, ratio=(.7, 0.2,0.1)) "
   ]
  },
  {
   "cell_type": "markdown",
   "metadata": {
    "papermill": {
     "duration": 0.873668,
     "end_time": "2022-04-29T04:15:39.794197",
     "exception": false,
     "start_time": "2022-04-29T04:15:38.920529",
     "status": "completed"
    },
    "tags": []
   },
   "source": [
    "Now, as the directory has been created, we can easily work on it."
   ]
  },
  {
   "cell_type": "code",
   "execution_count": 10,
   "metadata": {
    "execution": {
     "iopub.execute_input": "2022-04-29T08:31:29.572660Z",
     "iopub.status.busy": "2022-04-29T08:31:29.572266Z",
     "iopub.status.idle": "2022-04-29T08:31:36.722338Z",
     "shell.execute_reply": "2022-04-29T08:31:36.721299Z",
     "shell.execute_reply.started": "2022-04-29T08:31:29.572625Z"
    },
    "papermill": {
     "duration": 8.305907,
     "end_time": "2022-04-29T04:15:48.983806",
     "exception": false,
     "start_time": "2022-04-29T04:15:40.677899",
     "status": "completed"
    },
    "tags": []
   },
   "outputs": [],
   "source": [
    "import tensorflow as tf\n",
    "from tensorflow import keras\n",
    "from tensorflow.keras.applications.mobilenet_v2 import MobileNetV2\n",
    "from tensorflow.keras.applications.vgg16 import VGG16\n",
    "from tensorflow.keras.models import Model\n",
    "from tensorflow.keras.layers import Dense, Flatten, Dropout, BatchNormalization\n",
    "from tensorflow.keras.optimizers import Adam\n",
    "from tensorflow.keras.preprocessing.image import ImageDataGenerator\n",
    "\n",
    "import time\n",
    "import matplotlib.pyplot as plt\n",
    "import warnings\n",
    "warnings.filterwarnings('ignore')"
   ]
  },
  {
   "cell_type": "code",
   "execution_count": 11,
   "metadata": {
    "execution": {
     "iopub.execute_input": "2022-04-29T08:31:39.521436Z",
     "iopub.status.busy": "2022-04-29T08:31:39.521147Z",
     "iopub.status.idle": "2022-04-29T08:31:39.526956Z",
     "shell.execute_reply": "2022-04-29T08:31:39.525988Z",
     "shell.execute_reply.started": "2022-04-29T08:31:39.521406Z"
    },
    "papermill": {
     "duration": 0.876395,
     "end_time": "2022-04-29T04:15:50.754722",
     "exception": false,
     "start_time": "2022-04-29T04:15:49.878327",
     "status": "completed"
    },
    "tags": []
   },
   "outputs": [],
   "source": [
    "# setting the size to this\n",
    "IMAGE_SIZE = (224, 224)\n",
    "\n",
    "train_path = './data/train'\n",
    "val_path = './data/val'\n",
    "test_path = './data/test'"
   ]
  },
  {
   "cell_type": "markdown",
   "metadata": {
    "papermill": {
     "duration": 0.882298,
     "end_time": "2022-04-29T04:15:52.517078",
     "exception": false,
     "start_time": "2022-04-29T04:15:51.634780",
     "status": "completed"
    },
    "tags": []
   },
   "source": [
    "The neural networks work best when the images are normalized/standardized."
   ]
  },
  {
   "cell_type": "code",
   "execution_count": 12,
   "metadata": {
    "execution": {
     "iopub.execute_input": "2022-04-29T08:31:41.617360Z",
     "iopub.status.busy": "2022-04-29T08:31:41.616790Z",
     "iopub.status.idle": "2022-04-29T08:31:41.623251Z",
     "shell.execute_reply": "2022-04-29T08:31:41.622402Z",
     "shell.execute_reply.started": "2022-04-29T08:31:41.617303Z"
    },
    "papermill": {
     "duration": 0.927173,
     "end_time": "2022-04-29T04:15:54.344388",
     "exception": false,
     "start_time": "2022-04-29T04:15:53.417215",
     "status": "completed"
    },
    "tags": []
   },
   "outputs": [],
   "source": [
    "train_datagen = ImageDataGenerator(rescale = 1./255)\n",
    "\n",
    "eval_datagen = ImageDataGenerator(rescale = 1./255)\n",
    "\n",
    "test_datagen = ImageDataGenerator(rescale = 1./255)"
   ]
  },
  {
   "cell_type": "code",
   "execution_count": 13,
   "metadata": {
    "execution": {
     "iopub.execute_input": "2022-04-29T08:31:42.962310Z",
     "iopub.status.busy": "2022-04-29T08:31:42.961230Z",
     "iopub.status.idle": "2022-04-29T08:31:47.537086Z",
     "shell.execute_reply": "2022-04-29T08:31:47.535675Z",
     "shell.execute_reply.started": "2022-04-29T08:31:42.962263Z"
    },
    "papermill": {
     "duration": 2.910667,
     "end_time": "2022-04-29T04:15:58.225365",
     "exception": false,
     "start_time": "2022-04-29T04:15:55.314698",
     "status": "completed"
    },
    "tags": []
   },
   "outputs": [
    {
     "name": "stdout",
     "output_type": "stream",
     "text": [
      "Found 52500 images belonging to 5 classes.\n",
      "Found 15000 images belonging to 5 classes.\n",
      "Found 7500 images belonging to 5 classes.\n"
     ]
    }
   ],
   "source": [
    "train_batch = train_datagen.flow_from_directory('./data/train',\n",
    "                                                 target_size = (224, 224), # should be same as the initialized one\n",
    "                                                 batch_size = 10,\n",
    "                                                 class_mode = 'categorical')\n",
    "\n",
    "val_batch = eval_datagen.flow_from_directory('./data/val',\n",
    "                                                 target_size = (224, 224),\n",
    "                                                 batch_size = 20,\n",
    "                                                 class_mode = 'categorical')\n",
    "\n",
    "test_batch = test_datagen.flow_from_directory('./data/test',\n",
    "                                                 target_size = (224, 224),\n",
    "                                                 batch_size = 30,\n",
    "                                                 class_mode = 'categorical')"
   ]
  },
  {
   "cell_type": "markdown",
   "metadata": {
    "papermill": {
     "duration": 0.885877,
     "end_time": "2022-04-29T04:16:00.041186",
     "exception": false,
     "start_time": "2022-04-29T04:15:59.155309",
     "status": "completed"
    },
    "tags": []
   },
   "source": [
    "# About ImageNet\n",
    "\n",
    "Imagenet is a defacto standard for images classification. \n",
    "\n",
    "- The ImageNet is a pre-trained network inside Keras which is capable of classifying 1000 different object categories with high accuracy. \n",
    "\n",
    "- Therefore it provides a \"standard\" measure for how good a model is for image classification. So many often transfer learning models use the imagenet weights."
   ]
  },
  {
   "cell_type": "markdown",
   "metadata": {
    "papermill": {
     "duration": 0.919827,
     "end_time": "2022-04-29T04:16:01.843658",
     "exception": false,
     "start_time": "2022-04-29T04:16:00.923831",
     "status": "completed"
    },
    "tags": []
   },
   "source": [
    "# VGG16"
   ]
  },
  {
   "cell_type": "markdown",
   "metadata": {
    "papermill": {
     "duration": 0.890281,
     "end_time": "2022-04-29T04:16:03.629856",
     "exception": false,
     "start_time": "2022-04-29T04:16:02.739575",
     "status": "completed"
    },
    "tags": []
   },
   "source": [
    "The model architecture: (It is 16 layers deep, hence the name VGG16)\n",
    "\n",
    "<center><img src='https://raw.githubusercontent.com/moelgendy/deep_learning_for_vision_systems/2c9d077b43003657cd8f6d5ddfb6f83ee8bae1f3/chapter_05/images/vggnet_architecture.png'></img></center>\n",
    "\n",
    "We will set our own top and last layer of the model, hence we do `include_top=False`."
   ]
  },
  {
   "cell_type": "code",
   "execution_count": 14,
   "metadata": {
    "execution": {
     "iopub.execute_input": "2022-04-29T08:35:12.265230Z",
     "iopub.status.busy": "2022-04-29T08:35:12.264847Z",
     "iopub.status.idle": "2022-04-29T08:35:13.169771Z",
     "shell.execute_reply": "2022-04-29T08:35:13.168988Z",
     "shell.execute_reply.started": "2022-04-29T08:35:12.265195Z"
    },
    "papermill": {
     "duration": 2.332512,
     "end_time": "2022-04-29T04:16:06.864576",
     "exception": false,
     "start_time": "2022-04-29T04:16:04.532064",
     "status": "completed"
    },
    "tags": []
   },
   "outputs": [
    {
     "name": "stdout",
     "output_type": "stream",
     "text": [
      "Downloading data from https://storage.googleapis.com/tensorflow/keras-applications/vgg16/vgg16_weights_tf_dim_ordering_tf_kernels_notop.h5\n",
      "58892288/58889256 [==============================] - 2s 0us/step\n"
     ]
    }
   ],
   "source": [
    "vgg = VGG16(input_shape=(224,224,3), weights='imagenet', include_top=False)"
   ]
  },
  {
   "cell_type": "code",
   "execution_count": 15,
   "metadata": {
    "execution": {
     "iopub.execute_input": "2022-04-29T08:35:14.307605Z",
     "iopub.status.busy": "2022-04-29T08:35:14.307099Z",
     "iopub.status.idle": "2022-04-29T08:35:14.312869Z",
     "shell.execute_reply": "2022-04-29T08:35:14.311846Z",
     "shell.execute_reply.started": "2022-04-29T08:35:14.307556Z"
    },
    "papermill": {
     "duration": 0.886777,
     "end_time": "2022-04-29T04:16:08.626573",
     "exception": false,
     "start_time": "2022-04-29T04:16:07.739796",
     "status": "completed"
    },
    "tags": []
   },
   "outputs": [],
   "source": [
    "for layer in vgg.layers:\n",
    "    layer.trainable = False # we dont train the existing weights"
   ]
  },
  {
   "cell_type": "code",
   "execution_count": 16,
   "metadata": {
    "execution": {
     "iopub.execute_input": "2022-04-29T08:35:15.555102Z",
     "iopub.status.busy": "2022-04-29T08:35:15.554049Z",
     "iopub.status.idle": "2022-04-29T08:35:15.569343Z",
     "shell.execute_reply": "2022-04-29T08:35:15.568637Z",
     "shell.execute_reply.started": "2022-04-29T08:35:15.555053Z"
    },
    "papermill": {
     "duration": 0.919282,
     "end_time": "2022-04-29T04:16:10.442381",
     "exception": false,
     "start_time": "2022-04-29T04:16:09.523099",
     "status": "completed"
    },
    "tags": []
   },
   "outputs": [
    {
     "name": "stdout",
     "output_type": "stream",
     "text": [
      "Model: \"vgg16\"\n",
      "_________________________________________________________________\n",
      "Layer (type)                 Output Shape              Param #   \n",
      "=================================================================\n",
      "input_1 (InputLayer)         [(None, 224, 224, 3)]     0         \n",
      "_________________________________________________________________\n",
      "block1_conv1 (Conv2D)        (None, 224, 224, 64)      1792      \n",
      "_________________________________________________________________\n",
      "block1_conv2 (Conv2D)        (None, 224, 224, 64)      36928     \n",
      "_________________________________________________________________\n",
      "block1_pool (MaxPooling2D)   (None, 112, 112, 64)      0         \n",
      "_________________________________________________________________\n",
      "block2_conv1 (Conv2D)        (None, 112, 112, 128)     73856     \n",
      "_________________________________________________________________\n",
      "block2_conv2 (Conv2D)        (None, 112, 112, 128)     147584    \n",
      "_________________________________________________________________\n",
      "block2_pool (MaxPooling2D)   (None, 56, 56, 128)       0         \n",
      "_________________________________________________________________\n",
      "block3_conv1 (Conv2D)        (None, 56, 56, 256)       295168    \n",
      "_________________________________________________________________\n",
      "block3_conv2 (Conv2D)        (None, 56, 56, 256)       590080    \n",
      "_________________________________________________________________\n",
      "block3_conv3 (Conv2D)        (None, 56, 56, 256)       590080    \n",
      "_________________________________________________________________\n",
      "block3_pool (MaxPooling2D)   (None, 28, 28, 256)       0         \n",
      "_________________________________________________________________\n",
      "block4_conv1 (Conv2D)        (None, 28, 28, 512)       1180160   \n",
      "_________________________________________________________________\n",
      "block4_conv2 (Conv2D)        (None, 28, 28, 512)       2359808   \n",
      "_________________________________________________________________\n",
      "block4_conv3 (Conv2D)        (None, 28, 28, 512)       2359808   \n",
      "_________________________________________________________________\n",
      "block4_pool (MaxPooling2D)   (None, 14, 14, 512)       0         \n",
      "_________________________________________________________________\n",
      "block5_conv1 (Conv2D)        (None, 14, 14, 512)       2359808   \n",
      "_________________________________________________________________\n",
      "block5_conv2 (Conv2D)        (None, 14, 14, 512)       2359808   \n",
      "_________________________________________________________________\n",
      "block5_conv3 (Conv2D)        (None, 14, 14, 512)       2359808   \n",
      "_________________________________________________________________\n",
      "block5_pool (MaxPooling2D)   (None, 7, 7, 512)         0         \n",
      "=================================================================\n",
      "Total params: 14,714,688\n",
      "Trainable params: 0\n",
      "Non-trainable params: 14,714,688\n",
      "_________________________________________________________________\n"
     ]
    }
   ],
   "source": [
    "vgg.summary()"
   ]
  },
  {
   "cell_type": "markdown",
   "metadata": {
    "papermill": {
     "duration": 0.897016,
     "end_time": "2022-04-29T04:16:12.233802",
     "exception": false,
     "start_time": "2022-04-29T04:16:11.336786",
     "status": "completed"
    },
    "tags": []
   },
   "source": [
    "# Output Layer\n",
    "\n",
    "We flatten the data to convert into 1-dimensional array for imputing it to the next layer. Flattening creates a single long feature vector and is connected to the final classification model.\n",
    "\n",
    "<center><img src='https://miro.medium.com/max/1400/1*IWUxuBpqn2VuV-7Ubr01ng.png'></img></center>"
   ]
  },
  {
   "cell_type": "code",
   "execution_count": 17,
   "metadata": {
    "execution": {
     "iopub.execute_input": "2022-04-29T08:35:18.919114Z",
     "iopub.status.busy": "2022-04-29T08:35:18.918069Z",
     "iopub.status.idle": "2022-04-29T08:35:18.960454Z",
     "shell.execute_reply": "2022-04-29T08:35:18.959697Z",
     "shell.execute_reply.started": "2022-04-29T08:35:18.919030Z"
    },
    "papermill": {
     "duration": 0.933952,
     "end_time": "2022-04-29T04:16:14.060056",
     "exception": false,
     "start_time": "2022-04-29T04:16:13.126104",
     "status": "completed"
    },
    "tags": []
   },
   "outputs": [],
   "source": [
    "# we create our own last layers\n",
    "\n",
    "last_output = vgg.output\n",
    "\n",
    "norm = BatchNormalization()(last_output)\n",
    "x = Dropout(0.5)(norm)\n",
    "\n",
    "flat = Flatten()(x) # Flattening the output from the previous layer\n",
    "pred = Dense(5, activation='softmax', name='softmax')(flat) # we have 2 possibilites: Positive or Negative\n",
    "\n",
    "new_model = Model(inputs=vgg.input, outputs=pred) # concatenates the layers"
   ]
  },
  {
   "cell_type": "code",
   "execution_count": 18,
   "metadata": {
    "execution": {
     "iopub.execute_input": "2022-04-29T08:35:21.237037Z",
     "iopub.status.busy": "2022-04-29T08:35:21.236544Z",
     "iopub.status.idle": "2022-04-29T08:35:21.242735Z",
     "shell.execute_reply": "2022-04-29T08:35:21.241977Z",
     "shell.execute_reply.started": "2022-04-29T08:35:21.236983Z"
    },
    "papermill": {
     "duration": 0.928965,
     "end_time": "2022-04-29T04:16:15.879933",
     "exception": false,
     "start_time": "2022-04-29T04:16:14.950968",
     "status": "completed"
    },
    "tags": []
   },
   "outputs": [
    {
     "data": {
      "text/plain": [
       "[<tensorflow.python.keras.layers.pooling.MaxPooling2D at 0x1aab7042e08>,\n",
       " <tensorflow.python.keras.layers.normalization_v2.BatchNormalization at 0x1aab7082648>,\n",
       " <tensorflow.python.keras.layers.core.Dropout at 0x1aab70825c8>,\n",
       " <tensorflow.python.keras.layers.core.Flatten at 0x1aab7082bc8>]"
      ]
     },
     "execution_count": 18,
     "metadata": {},
     "output_type": "execute_result"
    }
   ],
   "source": [
    "# top layers of the network\n",
    "new_model.layers[-5:-1]"
   ]
  },
  {
   "cell_type": "markdown",
   "metadata": {
    "papermill": {
     "duration": 0.976684,
     "end_time": "2022-04-29T04:16:17.733937",
     "exception": false,
     "start_time": "2022-04-29T04:16:16.757253",
     "status": "completed"
    },
    "tags": []
   },
   "source": [
    "After creating the network, we need to compile it before fitting it to the dataset. We provide the following arguments in the compile function:\n",
    "- **Optimizer**: to tune the parameters of a neural network. Adam is chosen here because for most of the cases it is a perfect one.\n",
    "- **Loss**: to calculate loss. It can be:\n",
    "    - **Binary Crossentrop**y: for binary classification\n",
    "    - **Categorical Crossentropy**: for multi-class classification. The output is one hot-encoded (i.e. 0's , 1's).\n",
    "    - **Sparse Categorical Crossentropy**: for multi-class classification. The output is integral (i.e 1, 2, 3).\n",
    "- **Metrics**: the metric to assess the accuracy."
   ]
  },
  {
   "cell_type": "markdown",
   "metadata": {},
   "source": [
    "Then, we compile the model."
   ]
  },
  {
   "cell_type": "code",
   "execution_count": 19,
   "metadata": {
    "execution": {
     "iopub.execute_input": "2022-04-29T08:35:24.316118Z",
     "iopub.status.busy": "2022-04-29T08:35:24.315782Z",
     "iopub.status.idle": "2022-04-29T08:35:24.326447Z",
     "shell.execute_reply": "2022-04-29T08:35:24.325422Z",
     "shell.execute_reply.started": "2022-04-29T08:35:24.316086Z"
    },
    "papermill": {
     "duration": 0.894759,
     "end_time": "2022-04-29T04:16:19.515738",
     "exception": false,
     "start_time": "2022-04-29T04:16:18.620979",
     "status": "completed"
    },
    "tags": []
   },
   "outputs": [],
   "source": [
    "new_model.compile(Adam(lr=0.0001), loss='categorical_crossentropy', \n",
    " metrics=['accuracy'])"
   ]
  },
  {
   "cell_type": "markdown",
   "metadata": {
    "papermill": {
     "duration": 0.893735,
     "end_time": "2022-04-29T04:16:21.286848",
     "exception": false,
     "start_time": "2022-04-29T04:16:20.393113",
     "status": "completed"
    },
    "tags": []
   },
   "source": [
    "An epoch indicates the number of times the model sees the same batch of data again."
   ]
  },
  {
   "cell_type": "code",
   "execution_count": 20,
   "metadata": {
    "execution": {
     "iopub.execute_input": "2022-04-29T08:35:25.443855Z",
     "iopub.status.busy": "2022-04-29T08:35:25.443559Z",
     "iopub.status.idle": "2022-04-29T08:41:21.655122Z",
     "shell.execute_reply": "2022-04-29T08:41:21.653594Z",
     "shell.execute_reply.started": "2022-04-29T08:35:25.443821Z"
    },
    "papermill": {
     "duration": 393.864161,
     "end_time": "2022-04-29T04:22:56.028079",
     "exception": false,
     "start_time": "2022-04-29T04:16:22.163918",
     "status": "completed"
    },
    "tags": []
   },
   "outputs": [
    {
     "name": "stdout",
     "output_type": "stream",
     "text": [
      "Epoch 1/5\n",
      "18/18 [==============================] - 16s 894ms/step - loss: 2.1043 - accuracy: 0.2851 - val_loss: 1.4937 - val_accuracy: 0.4667\n",
      "Epoch 2/5\n",
      "18/18 [==============================] - 17s 979ms/step - loss: 1.0050 - accuracy: 0.5960 - val_loss: 1.2346 - val_accuracy: 0.5833\n",
      "Epoch 3/5\n",
      "18/18 [==============================] - 18s 1s/step - loss: 0.5752 - accuracy: 0.7729 - val_loss: 1.2089 - val_accuracy: 0.5333\n",
      "Epoch 4/5\n",
      "18/18 [==============================] - 19s 1s/step - loss: 0.5974 - accuracy: 0.7824 - val_loss: 1.0018 - val_accuracy: 0.5833\n",
      "Epoch 5/5\n",
      "18/18 [==============================] - 18s 1s/step - loss: 0.4340 - accuracy: 0.8611 - val_loss: 0.9569 - val_accuracy: 0.6167\n",
      "\n",
      "\n",
      "Time taken by VGG16: 88.48 seconds\n"
     ]
    }
   ],
   "source": [
    "start_time = time.perf_counter()\n",
    "\n",
    "hist1 = new_model.fit(train_batch, steps_per_epoch=18,\n",
    "             validation_data=val_batch, validation_steps=3, epochs=5,\n",
    "             verbose=1)\n",
    "\n",
    "time1 = round(time.perf_counter() - start_time, 2)\n",
    "print (f'\\n\\nTime taken by VGG16: {time1} seconds')"
   ]
  },
  {
   "cell_type": "markdown",
   "metadata": {
    "papermill": {
     "duration": 0.911728,
     "end_time": "2022-04-29T04:22:57.837839",
     "exception": false,
     "start_time": "2022-04-29T04:22:56.926111",
     "status": "completed"
    },
    "tags": []
   },
   "source": [
    "# MobileNetV2"
   ]
  },
  {
   "cell_type": "markdown",
   "metadata": {
    "papermill": {
     "duration": 0.91477,
     "end_time": "2022-04-29T04:22:59.689968",
     "exception": false,
     "start_time": "2022-04-29T04:22:58.775198",
     "status": "completed"
    },
    "tags": []
   },
   "source": [
    "The same procedure is followed here.\n",
    "\n",
    "<center><img src='https://www.researchgate.net/publication/337970110/figure/fig3/AS:836949766045697@1576555782961/MobileNetV2-6-uses-a-3-3-convolution-for-the-depth-wise-phase-of-the-convolution-and.jpg'></img></center>"
   ]
  },
  {
   "cell_type": "code",
   "execution_count": 21,
   "metadata": {
    "execution": {
     "iopub.execute_input": "2022-04-29T08:42:48.405116Z",
     "iopub.status.busy": "2022-04-29T08:42:48.404669Z",
     "iopub.status.idle": "2022-04-29T08:42:49.495644Z",
     "shell.execute_reply": "2022-04-29T08:42:49.494632Z",
     "shell.execute_reply.started": "2022-04-29T08:42:48.405075Z"
    },
    "papermill": {
     "duration": 2.651516,
     "end_time": "2022-04-29T04:23:03.244912",
     "exception": false,
     "start_time": "2022-04-29T04:23:00.593396",
     "status": "completed"
    },
    "tags": []
   },
   "outputs": [
    {
     "name": "stdout",
     "output_type": "stream",
     "text": [
      "Downloading data from https://storage.googleapis.com/tensorflow/keras-applications/mobilenet_v2/mobilenet_v2_weights_tf_dim_ordering_tf_kernels_1.0_224_no_top.h5\n",
      "9412608/9406464 [==============================] - 0s 0us/step\n"
     ]
    }
   ],
   "source": [
    "mnv = MobileNetV2(input_shape=(224,224,3), weights='imagenet', include_top=False)"
   ]
  },
  {
   "cell_type": "code",
   "execution_count": 22,
   "metadata": {
    "execution": {
     "iopub.execute_input": "2022-04-29T08:42:50.338335Z",
     "iopub.status.busy": "2022-04-29T08:42:50.338041Z",
     "iopub.status.idle": "2022-04-29T08:42:50.349061Z",
     "shell.execute_reply": "2022-04-29T08:42:50.347953Z",
     "shell.execute_reply.started": "2022-04-29T08:42:50.338307Z"
    },
    "papermill": {
     "duration": 1.016881,
     "end_time": "2022-04-29T04:23:05.192386",
     "exception": false,
     "start_time": "2022-04-29T04:23:04.175505",
     "status": "completed"
    },
    "tags": []
   },
   "outputs": [],
   "source": [
    "for layer in mnv.layers:\n",
    "    layer.trainable = False"
   ]
  },
  {
   "cell_type": "code",
   "execution_count": 23,
   "metadata": {
    "execution": {
     "iopub.execute_input": "2022-04-29T08:42:51.349466Z",
     "iopub.status.busy": "2022-04-29T08:42:51.349017Z",
     "iopub.status.idle": "2022-04-29T08:42:52.183944Z",
     "shell.execute_reply": "2022-04-29T08:42:52.182637Z",
     "shell.execute_reply.started": "2022-04-29T08:42:51.349433Z"
    },
    "jupyter": {
     "outputs_hidden": true
    },
    "papermill": {
     "duration": 0.986691,
     "end_time": "2022-04-29T04:23:07.107200",
     "exception": false,
     "start_time": "2022-04-29T04:23:06.120509",
     "status": "completed"
    },
    "scrolled": false,
    "tags": []
   },
   "outputs": [
    {
     "name": "stdout",
     "output_type": "stream",
     "text": [
      "Model: \"mobilenetv2_1.00_224\"\n",
      "__________________________________________________________________________________________________\n",
      "Layer (type)                    Output Shape         Param #     Connected to                     \n",
      "==================================================================================================\n",
      "input_2 (InputLayer)            [(None, 224, 224, 3) 0                                            \n",
      "__________________________________________________________________________________________________\n",
      "Conv1 (Conv2D)                  (None, 112, 112, 32) 864         input_2[0][0]                    \n",
      "__________________________________________________________________________________________________\n",
      "bn_Conv1 (BatchNormalization)   (None, 112, 112, 32) 128         Conv1[0][0]                      \n",
      "__________________________________________________________________________________________________\n",
      "Conv1_relu (ReLU)               (None, 112, 112, 32) 0           bn_Conv1[0][0]                   \n",
      "__________________________________________________________________________________________________\n",
      "expanded_conv_depthwise (Depthw (None, 112, 112, 32) 288         Conv1_relu[0][0]                 \n",
      "__________________________________________________________________________________________________\n",
      "expanded_conv_depthwise_BN (Bat (None, 112, 112, 32) 128         expanded_conv_depthwise[0][0]    \n",
      "__________________________________________________________________________________________________\n",
      "expanded_conv_depthwise_relu (R (None, 112, 112, 32) 0           expanded_conv_depthwise_BN[0][0] \n",
      "__________________________________________________________________________________________________\n",
      "expanded_conv_project (Conv2D)  (None, 112, 112, 16) 512         expanded_conv_depthwise_relu[0][0\n",
      "__________________________________________________________________________________________________\n",
      "expanded_conv_project_BN (Batch (None, 112, 112, 16) 64          expanded_conv_project[0][0]      \n",
      "__________________________________________________________________________________________________\n",
      "block_1_expand (Conv2D)         (None, 112, 112, 96) 1536        expanded_conv_project_BN[0][0]   \n",
      "__________________________________________________________________________________________________\n",
      "block_1_expand_BN (BatchNormali (None, 112, 112, 96) 384         block_1_expand[0][0]             \n",
      "__________________________________________________________________________________________________\n",
      "block_1_expand_relu (ReLU)      (None, 112, 112, 96) 0           block_1_expand_BN[0][0]          \n",
      "__________________________________________________________________________________________________\n",
      "block_1_pad (ZeroPadding2D)     (None, 113, 113, 96) 0           block_1_expand_relu[0][0]        \n",
      "__________________________________________________________________________________________________\n",
      "block_1_depthwise (DepthwiseCon (None, 56, 56, 96)   864         block_1_pad[0][0]                \n",
      "__________________________________________________________________________________________________\n",
      "block_1_depthwise_BN (BatchNorm (None, 56, 56, 96)   384         block_1_depthwise[0][0]          \n",
      "__________________________________________________________________________________________________\n",
      "block_1_depthwise_relu (ReLU)   (None, 56, 56, 96)   0           block_1_depthwise_BN[0][0]       \n",
      "__________________________________________________________________________________________________\n",
      "block_1_project (Conv2D)        (None, 56, 56, 24)   2304        block_1_depthwise_relu[0][0]     \n",
      "__________________________________________________________________________________________________\n",
      "block_1_project_BN (BatchNormal (None, 56, 56, 24)   96          block_1_project[0][0]            \n",
      "__________________________________________________________________________________________________\n",
      "block_2_expand (Conv2D)         (None, 56, 56, 144)  3456        block_1_project_BN[0][0]         \n",
      "__________________________________________________________________________________________________\n",
      "block_2_expand_BN (BatchNormali (None, 56, 56, 144)  576         block_2_expand[0][0]             \n",
      "__________________________________________________________________________________________________\n",
      "block_2_expand_relu (ReLU)      (None, 56, 56, 144)  0           block_2_expand_BN[0][0]          \n",
      "__________________________________________________________________________________________________\n",
      "block_2_depthwise (DepthwiseCon (None, 56, 56, 144)  1296        block_2_expand_relu[0][0]        \n",
      "__________________________________________________________________________________________________\n",
      "block_2_depthwise_BN (BatchNorm (None, 56, 56, 144)  576         block_2_depthwise[0][0]          \n",
      "__________________________________________________________________________________________________\n",
      "block_2_depthwise_relu (ReLU)   (None, 56, 56, 144)  0           block_2_depthwise_BN[0][0]       \n",
      "__________________________________________________________________________________________________\n",
      "block_2_project (Conv2D)        (None, 56, 56, 24)   3456        block_2_depthwise_relu[0][0]     \n",
      "__________________________________________________________________________________________________\n",
      "block_2_project_BN (BatchNormal (None, 56, 56, 24)   96          block_2_project[0][0]            \n",
      "__________________________________________________________________________________________________\n",
      "block_2_add (Add)               (None, 56, 56, 24)   0           block_1_project_BN[0][0]         \n",
      "                                                                 block_2_project_BN[0][0]         \n",
      "__________________________________________________________________________________________________\n",
      "block_3_expand (Conv2D)         (None, 56, 56, 144)  3456        block_2_add[0][0]                \n",
      "__________________________________________________________________________________________________\n",
      "block_3_expand_BN (BatchNormali (None, 56, 56, 144)  576         block_3_expand[0][0]             \n",
      "__________________________________________________________________________________________________\n",
      "block_3_expand_relu (ReLU)      (None, 56, 56, 144)  0           block_3_expand_BN[0][0]          \n",
      "__________________________________________________________________________________________________\n",
      "block_3_pad (ZeroPadding2D)     (None, 57, 57, 144)  0           block_3_expand_relu[0][0]        \n",
      "__________________________________________________________________________________________________\n",
      "block_3_depthwise (DepthwiseCon (None, 28, 28, 144)  1296        block_3_pad[0][0]                \n",
      "__________________________________________________________________________________________________\n",
      "block_3_depthwise_BN (BatchNorm (None, 28, 28, 144)  576         block_3_depthwise[0][0]          \n",
      "__________________________________________________________________________________________________\n",
      "block_3_depthwise_relu (ReLU)   (None, 28, 28, 144)  0           block_3_depthwise_BN[0][0]       \n",
      "__________________________________________________________________________________________________\n",
      "block_3_project (Conv2D)        (None, 28, 28, 32)   4608        block_3_depthwise_relu[0][0]     \n",
      "__________________________________________________________________________________________________\n",
      "block_3_project_BN (BatchNormal (None, 28, 28, 32)   128         block_3_project[0][0]            \n",
      "__________________________________________________________________________________________________\n",
      "block_4_expand (Conv2D)         (None, 28, 28, 192)  6144        block_3_project_BN[0][0]         \n",
      "__________________________________________________________________________________________________\n",
      "block_4_expand_BN (BatchNormali (None, 28, 28, 192)  768         block_4_expand[0][0]             \n",
      "__________________________________________________________________________________________________\n",
      "block_4_expand_relu (ReLU)      (None, 28, 28, 192)  0           block_4_expand_BN[0][0]          \n",
      "__________________________________________________________________________________________________\n",
      "block_4_depthwise (DepthwiseCon (None, 28, 28, 192)  1728        block_4_expand_relu[0][0]        \n",
      "__________________________________________________________________________________________________\n",
      "block_4_depthwise_BN (BatchNorm (None, 28, 28, 192)  768         block_4_depthwise[0][0]          \n",
      "__________________________________________________________________________________________________\n",
      "block_4_depthwise_relu (ReLU)   (None, 28, 28, 192)  0           block_4_depthwise_BN[0][0]       \n",
      "__________________________________________________________________________________________________\n",
      "block_4_project (Conv2D)        (None, 28, 28, 32)   6144        block_4_depthwise_relu[0][0]     \n",
      "__________________________________________________________________________________________________\n",
      "block_4_project_BN (BatchNormal (None, 28, 28, 32)   128         block_4_project[0][0]            \n",
      "__________________________________________________________________________________________________\n",
      "block_4_add (Add)               (None, 28, 28, 32)   0           block_3_project_BN[0][0]         \n",
      "                                                                 block_4_project_BN[0][0]         \n",
      "__________________________________________________________________________________________________\n",
      "block_5_expand (Conv2D)         (None, 28, 28, 192)  6144        block_4_add[0][0]                \n",
      "__________________________________________________________________________________________________\n",
      "block_5_expand_BN (BatchNormali (None, 28, 28, 192)  768         block_5_expand[0][0]             \n",
      "__________________________________________________________________________________________________\n",
      "block_5_expand_relu (ReLU)      (None, 28, 28, 192)  0           block_5_expand_BN[0][0]          \n",
      "__________________________________________________________________________________________________\n",
      "block_5_depthwise (DepthwiseCon (None, 28, 28, 192)  1728        block_5_expand_relu[0][0]        \n",
      "__________________________________________________________________________________________________\n",
      "block_5_depthwise_BN (BatchNorm (None, 28, 28, 192)  768         block_5_depthwise[0][0]          \n",
      "__________________________________________________________________________________________________\n",
      "block_5_depthwise_relu (ReLU)   (None, 28, 28, 192)  0           block_5_depthwise_BN[0][0]       \n",
      "__________________________________________________________________________________________________\n",
      "block_5_project (Conv2D)        (None, 28, 28, 32)   6144        block_5_depthwise_relu[0][0]     \n",
      "__________________________________________________________________________________________________\n",
      "block_5_project_BN (BatchNormal (None, 28, 28, 32)   128         block_5_project[0][0]            \n",
      "__________________________________________________________________________________________________\n",
      "block_5_add (Add)               (None, 28, 28, 32)   0           block_4_add[0][0]                \n",
      "                                                                 block_5_project_BN[0][0]         \n",
      "__________________________________________________________________________________________________\n",
      "block_6_expand (Conv2D)         (None, 28, 28, 192)  6144        block_5_add[0][0]                \n",
      "__________________________________________________________________________________________________\n",
      "block_6_expand_BN (BatchNormali (None, 28, 28, 192)  768         block_6_expand[0][0]             \n",
      "__________________________________________________________________________________________________\n",
      "block_6_expand_relu (ReLU)      (None, 28, 28, 192)  0           block_6_expand_BN[0][0]          \n",
      "__________________________________________________________________________________________________\n",
      "block_6_pad (ZeroPadding2D)     (None, 29, 29, 192)  0           block_6_expand_relu[0][0]        \n",
      "__________________________________________________________________________________________________\n",
      "block_6_depthwise (DepthwiseCon (None, 14, 14, 192)  1728        block_6_pad[0][0]                \n",
      "__________________________________________________________________________________________________\n",
      "block_6_depthwise_BN (BatchNorm (None, 14, 14, 192)  768         block_6_depthwise[0][0]          \n",
      "__________________________________________________________________________________________________\n",
      "block_6_depthwise_relu (ReLU)   (None, 14, 14, 192)  0           block_6_depthwise_BN[0][0]       \n",
      "__________________________________________________________________________________________________\n",
      "block_6_project (Conv2D)        (None, 14, 14, 64)   12288       block_6_depthwise_relu[0][0]     \n",
      "__________________________________________________________________________________________________\n",
      "block_6_project_BN (BatchNormal (None, 14, 14, 64)   256         block_6_project[0][0]            \n",
      "__________________________________________________________________________________________________\n",
      "block_7_expand (Conv2D)         (None, 14, 14, 384)  24576       block_6_project_BN[0][0]         \n",
      "__________________________________________________________________________________________________\n",
      "block_7_expand_BN (BatchNormali (None, 14, 14, 384)  1536        block_7_expand[0][0]             \n",
      "__________________________________________________________________________________________________\n",
      "block_7_expand_relu (ReLU)      (None, 14, 14, 384)  0           block_7_expand_BN[0][0]          \n",
      "__________________________________________________________________________________________________\n",
      "block_7_depthwise (DepthwiseCon (None, 14, 14, 384)  3456        block_7_expand_relu[0][0]        \n",
      "__________________________________________________________________________________________________\n",
      "block_7_depthwise_BN (BatchNorm (None, 14, 14, 384)  1536        block_7_depthwise[0][0]          \n",
      "__________________________________________________________________________________________________\n",
      "block_7_depthwise_relu (ReLU)   (None, 14, 14, 384)  0           block_7_depthwise_BN[0][0]       \n",
      "__________________________________________________________________________________________________\n",
      "block_7_project (Conv2D)        (None, 14, 14, 64)   24576       block_7_depthwise_relu[0][0]     \n",
      "__________________________________________________________________________________________________\n",
      "block_7_project_BN (BatchNormal (None, 14, 14, 64)   256         block_7_project[0][0]            \n",
      "__________________________________________________________________________________________________\n",
      "block_7_add (Add)               (None, 14, 14, 64)   0           block_6_project_BN[0][0]         \n",
      "                                                                 block_7_project_BN[0][0]         \n",
      "__________________________________________________________________________________________________\n",
      "block_8_expand (Conv2D)         (None, 14, 14, 384)  24576       block_7_add[0][0]                \n",
      "__________________________________________________________________________________________________\n",
      "block_8_expand_BN (BatchNormali (None, 14, 14, 384)  1536        block_8_expand[0][0]             \n",
      "__________________________________________________________________________________________________\n",
      "block_8_expand_relu (ReLU)      (None, 14, 14, 384)  0           block_8_expand_BN[0][0]          \n",
      "__________________________________________________________________________________________________\n",
      "block_8_depthwise (DepthwiseCon (None, 14, 14, 384)  3456        block_8_expand_relu[0][0]        \n",
      "__________________________________________________________________________________________________\n",
      "block_8_depthwise_BN (BatchNorm (None, 14, 14, 384)  1536        block_8_depthwise[0][0]          \n",
      "__________________________________________________________________________________________________\n",
      "block_8_depthwise_relu (ReLU)   (None, 14, 14, 384)  0           block_8_depthwise_BN[0][0]       \n",
      "__________________________________________________________________________________________________\n",
      "block_8_project (Conv2D)        (None, 14, 14, 64)   24576       block_8_depthwise_relu[0][0]     \n",
      "__________________________________________________________________________________________________\n",
      "block_8_project_BN (BatchNormal (None, 14, 14, 64)   256         block_8_project[0][0]            \n",
      "__________________________________________________________________________________________________\n",
      "block_8_add (Add)               (None, 14, 14, 64)   0           block_7_add[0][0]                \n",
      "                                                                 block_8_project_BN[0][0]         \n",
      "__________________________________________________________________________________________________\n",
      "block_9_expand (Conv2D)         (None, 14, 14, 384)  24576       block_8_add[0][0]                \n",
      "__________________________________________________________________________________________________\n",
      "block_9_expand_BN (BatchNormali (None, 14, 14, 384)  1536        block_9_expand[0][0]             \n",
      "__________________________________________________________________________________________________\n",
      "block_9_expand_relu (ReLU)      (None, 14, 14, 384)  0           block_9_expand_BN[0][0]          \n",
      "__________________________________________________________________________________________________\n",
      "block_9_depthwise (DepthwiseCon (None, 14, 14, 384)  3456        block_9_expand_relu[0][0]        \n",
      "__________________________________________________________________________________________________\n",
      "block_9_depthwise_BN (BatchNorm (None, 14, 14, 384)  1536        block_9_depthwise[0][0]          \n",
      "__________________________________________________________________________________________________\n",
      "block_9_depthwise_relu (ReLU)   (None, 14, 14, 384)  0           block_9_depthwise_BN[0][0]       \n",
      "__________________________________________________________________________________________________\n",
      "block_9_project (Conv2D)        (None, 14, 14, 64)   24576       block_9_depthwise_relu[0][0]     \n",
      "__________________________________________________________________________________________________\n",
      "block_9_project_BN (BatchNormal (None, 14, 14, 64)   256         block_9_project[0][0]            \n",
      "__________________________________________________________________________________________________\n",
      "block_9_add (Add)               (None, 14, 14, 64)   0           block_8_add[0][0]                \n",
      "                                                                 block_9_project_BN[0][0]         \n",
      "__________________________________________________________________________________________________\n",
      "block_10_expand (Conv2D)        (None, 14, 14, 384)  24576       block_9_add[0][0]                \n",
      "__________________________________________________________________________________________________\n",
      "block_10_expand_BN (BatchNormal (None, 14, 14, 384)  1536        block_10_expand[0][0]            \n",
      "__________________________________________________________________________________________________\n",
      "block_10_expand_relu (ReLU)     (None, 14, 14, 384)  0           block_10_expand_BN[0][0]         \n",
      "__________________________________________________________________________________________________\n",
      "block_10_depthwise (DepthwiseCo (None, 14, 14, 384)  3456        block_10_expand_relu[0][0]       \n",
      "__________________________________________________________________________________________________\n",
      "block_10_depthwise_BN (BatchNor (None, 14, 14, 384)  1536        block_10_depthwise[0][0]         \n",
      "__________________________________________________________________________________________________\n",
      "block_10_depthwise_relu (ReLU)  (None, 14, 14, 384)  0           block_10_depthwise_BN[0][0]      \n",
      "__________________________________________________________________________________________________\n",
      "block_10_project (Conv2D)       (None, 14, 14, 96)   36864       block_10_depthwise_relu[0][0]    \n",
      "__________________________________________________________________________________________________\n",
      "block_10_project_BN (BatchNorma (None, 14, 14, 96)   384         block_10_project[0][0]           \n",
      "__________________________________________________________________________________________________\n",
      "block_11_expand (Conv2D)        (None, 14, 14, 576)  55296       block_10_project_BN[0][0]        \n",
      "__________________________________________________________________________________________________\n",
      "block_11_expand_BN (BatchNormal (None, 14, 14, 576)  2304        block_11_expand[0][0]            \n",
      "__________________________________________________________________________________________________\n",
      "block_11_expand_relu (ReLU)     (None, 14, 14, 576)  0           block_11_expand_BN[0][0]         \n",
      "__________________________________________________________________________________________________\n",
      "block_11_depthwise (DepthwiseCo (None, 14, 14, 576)  5184        block_11_expand_relu[0][0]       \n",
      "__________________________________________________________________________________________________\n",
      "block_11_depthwise_BN (BatchNor (None, 14, 14, 576)  2304        block_11_depthwise[0][0]         \n",
      "__________________________________________________________________________________________________\n",
      "block_11_depthwise_relu (ReLU)  (None, 14, 14, 576)  0           block_11_depthwise_BN[0][0]      \n",
      "__________________________________________________________________________________________________\n",
      "block_11_project (Conv2D)       (None, 14, 14, 96)   55296       block_11_depthwise_relu[0][0]    \n",
      "__________________________________________________________________________________________________\n",
      "block_11_project_BN (BatchNorma (None, 14, 14, 96)   384         block_11_project[0][0]           \n",
      "__________________________________________________________________________________________________\n",
      "block_11_add (Add)              (None, 14, 14, 96)   0           block_10_project_BN[0][0]        \n",
      "                                                                 block_11_project_BN[0][0]        \n",
      "__________________________________________________________________________________________________\n",
      "block_12_expand (Conv2D)        (None, 14, 14, 576)  55296       block_11_add[0][0]               \n",
      "__________________________________________________________________________________________________\n",
      "block_12_expand_BN (BatchNormal (None, 14, 14, 576)  2304        block_12_expand[0][0]            \n",
      "__________________________________________________________________________________________________\n",
      "block_12_expand_relu (ReLU)     (None, 14, 14, 576)  0           block_12_expand_BN[0][0]         \n",
      "__________________________________________________________________________________________________\n",
      "block_12_depthwise (DepthwiseCo (None, 14, 14, 576)  5184        block_12_expand_relu[0][0]       \n",
      "__________________________________________________________________________________________________\n",
      "block_12_depthwise_BN (BatchNor (None, 14, 14, 576)  2304        block_12_depthwise[0][0]         \n",
      "__________________________________________________________________________________________________\n",
      "block_12_depthwise_relu (ReLU)  (None, 14, 14, 576)  0           block_12_depthwise_BN[0][0]      \n",
      "__________________________________________________________________________________________________\n",
      "block_12_project (Conv2D)       (None, 14, 14, 96)   55296       block_12_depthwise_relu[0][0]    \n",
      "__________________________________________________________________________________________________\n",
      "block_12_project_BN (BatchNorma (None, 14, 14, 96)   384         block_12_project[0][0]           \n",
      "__________________________________________________________________________________________________\n",
      "block_12_add (Add)              (None, 14, 14, 96)   0           block_11_add[0][0]               \n",
      "                                                                 block_12_project_BN[0][0]        \n",
      "__________________________________________________________________________________________________\n",
      "block_13_expand (Conv2D)        (None, 14, 14, 576)  55296       block_12_add[0][0]               \n",
      "__________________________________________________________________________________________________\n",
      "block_13_expand_BN (BatchNormal (None, 14, 14, 576)  2304        block_13_expand[0][0]            \n",
      "__________________________________________________________________________________________________\n",
      "block_13_expand_relu (ReLU)     (None, 14, 14, 576)  0           block_13_expand_BN[0][0]         \n",
      "__________________________________________________________________________________________________\n",
      "block_13_pad (ZeroPadding2D)    (None, 15, 15, 576)  0           block_13_expand_relu[0][0]       \n",
      "__________________________________________________________________________________________________\n",
      "block_13_depthwise (DepthwiseCo (None, 7, 7, 576)    5184        block_13_pad[0][0]               \n",
      "__________________________________________________________________________________________________\n",
      "block_13_depthwise_BN (BatchNor (None, 7, 7, 576)    2304        block_13_depthwise[0][0]         \n",
      "__________________________________________________________________________________________________\n",
      "block_13_depthwise_relu (ReLU)  (None, 7, 7, 576)    0           block_13_depthwise_BN[0][0]      \n",
      "__________________________________________________________________________________________________\n",
      "block_13_project (Conv2D)       (None, 7, 7, 160)    92160       block_13_depthwise_relu[0][0]    \n",
      "__________________________________________________________________________________________________\n",
      "block_13_project_BN (BatchNorma (None, 7, 7, 160)    640         block_13_project[0][0]           \n",
      "__________________________________________________________________________________________________\n",
      "block_14_expand (Conv2D)        (None, 7, 7, 960)    153600      block_13_project_BN[0][0]        \n",
      "__________________________________________________________________________________________________\n",
      "block_14_expand_BN (BatchNormal (None, 7, 7, 960)    3840        block_14_expand[0][0]            \n",
      "__________________________________________________________________________________________________\n",
      "block_14_expand_relu (ReLU)     (None, 7, 7, 960)    0           block_14_expand_BN[0][0]         \n",
      "__________________________________________________________________________________________________\n",
      "block_14_depthwise (DepthwiseCo (None, 7, 7, 960)    8640        block_14_expand_relu[0][0]       \n",
      "__________________________________________________________________________________________________\n",
      "block_14_depthwise_BN (BatchNor (None, 7, 7, 960)    3840        block_14_depthwise[0][0]         \n",
      "__________________________________________________________________________________________________\n",
      "block_14_depthwise_relu (ReLU)  (None, 7, 7, 960)    0           block_14_depthwise_BN[0][0]      \n",
      "__________________________________________________________________________________________________\n",
      "block_14_project (Conv2D)       (None, 7, 7, 160)    153600      block_14_depthwise_relu[0][0]    \n",
      "__________________________________________________________________________________________________\n",
      "block_14_project_BN (BatchNorma (None, 7, 7, 160)    640         block_14_project[0][0]           \n",
      "__________________________________________________________________________________________________\n",
      "block_14_add (Add)              (None, 7, 7, 160)    0           block_13_project_BN[0][0]        \n",
      "                                                                 block_14_project_BN[0][0]        \n",
      "__________________________________________________________________________________________________\n",
      "block_15_expand (Conv2D)        (None, 7, 7, 960)    153600      block_14_add[0][0]               \n",
      "__________________________________________________________________________________________________\n",
      "block_15_expand_BN (BatchNormal (None, 7, 7, 960)    3840        block_15_expand[0][0]            \n",
      "__________________________________________________________________________________________________\n",
      "block_15_expand_relu (ReLU)     (None, 7, 7, 960)    0           block_15_expand_BN[0][0]         \n",
      "__________________________________________________________________________________________________\n",
      "block_15_depthwise (DepthwiseCo (None, 7, 7, 960)    8640        block_15_expand_relu[0][0]       \n",
      "__________________________________________________________________________________________________\n",
      "block_15_depthwise_BN (BatchNor (None, 7, 7, 960)    3840        block_15_depthwise[0][0]         \n",
      "__________________________________________________________________________________________________\n",
      "block_15_depthwise_relu (ReLU)  (None, 7, 7, 960)    0           block_15_depthwise_BN[0][0]      \n",
      "__________________________________________________________________________________________________\n",
      "block_15_project (Conv2D)       (None, 7, 7, 160)    153600      block_15_depthwise_relu[0][0]    \n",
      "__________________________________________________________________________________________________\n",
      "block_15_project_BN (BatchNorma (None, 7, 7, 160)    640         block_15_project[0][0]           \n",
      "__________________________________________________________________________________________________\n",
      "block_15_add (Add)              (None, 7, 7, 160)    0           block_14_add[0][0]               \n",
      "                                                                 block_15_project_BN[0][0]        \n",
      "__________________________________________________________________________________________________\n",
      "block_16_expand (Conv2D)        (None, 7, 7, 960)    153600      block_15_add[0][0]               \n",
      "__________________________________________________________________________________________________\n",
      "block_16_expand_BN (BatchNormal (None, 7, 7, 960)    3840        block_16_expand[0][0]            \n",
      "__________________________________________________________________________________________________\n",
      "block_16_expand_relu (ReLU)     (None, 7, 7, 960)    0           block_16_expand_BN[0][0]         \n",
      "__________________________________________________________________________________________________\n",
      "block_16_depthwise (DepthwiseCo (None, 7, 7, 960)    8640        block_16_expand_relu[0][0]       \n",
      "__________________________________________________________________________________________________\n",
      "block_16_depthwise_BN (BatchNor (None, 7, 7, 960)    3840        block_16_depthwise[0][0]         \n",
      "__________________________________________________________________________________________________\n",
      "block_16_depthwise_relu (ReLU)  (None, 7, 7, 960)    0           block_16_depthwise_BN[0][0]      \n",
      "__________________________________________________________________________________________________\n",
      "block_16_project (Conv2D)       (None, 7, 7, 320)    307200      block_16_depthwise_relu[0][0]    \n",
      "__________________________________________________________________________________________________\n",
      "block_16_project_BN (BatchNorma (None, 7, 7, 320)    1280        block_16_project[0][0]           \n",
      "__________________________________________________________________________________________________\n",
      "Conv_1 (Conv2D)                 (None, 7, 7, 1280)   409600      block_16_project_BN[0][0]        \n",
      "__________________________________________________________________________________________________\n",
      "Conv_1_bn (BatchNormalization)  (None, 7, 7, 1280)   5120        Conv_1[0][0]                     \n",
      "__________________________________________________________________________________________________\n",
      "out_relu (ReLU)                 (None, 7, 7, 1280)   0           Conv_1_bn[0][0]                  \n",
      "==================================================================================================\n",
      "Total params: 2,257,984\n",
      "Trainable params: 0\n",
      "Non-trainable params: 2,257,984\n",
      "__________________________________________________________________________________________________\n"
     ]
    }
   ],
   "source": [
    "mnv.summary() "
   ]
  },
  {
   "cell_type": "code",
   "execution_count": 24,
   "metadata": {
    "execution": {
     "iopub.execute_input": "2022-04-29T08:42:56.495544Z",
     "iopub.status.busy": "2022-04-29T08:42:56.495221Z",
     "iopub.status.idle": "2022-04-29T08:42:56.533354Z",
     "shell.execute_reply": "2022-04-29T08:42:56.532179Z",
     "shell.execute_reply.started": "2022-04-29T08:42:56.495513Z"
    },
    "papermill": {
     "duration": 0.961937,
     "end_time": "2022-04-29T04:23:09.013571",
     "exception": false,
     "start_time": "2022-04-29T04:23:08.051634",
     "status": "completed"
    },
    "tags": []
   },
   "outputs": [],
   "source": [
    "last_output = mnv.output\n",
    "\n",
    "x = Flatten()(last_output)\n",
    "pred = Dense(5, activation='softmax', name='softmax')(x)\n",
    "\n",
    "new_model = Model(inputs=mnv.input, outputs=pred)"
   ]
  },
  {
   "cell_type": "code",
   "execution_count": 25,
   "metadata": {
    "execution": {
     "iopub.execute_input": "2022-04-29T08:42:57.649520Z",
     "iopub.status.busy": "2022-04-29T08:42:57.648857Z",
     "iopub.status.idle": "2022-04-29T08:42:57.657427Z",
     "shell.execute_reply": "2022-04-29T08:42:57.656362Z",
     "shell.execute_reply.started": "2022-04-29T08:42:57.649481Z"
    },
    "papermill": {
     "duration": 0.929635,
     "end_time": "2022-04-29T04:23:10.867429",
     "exception": false,
     "start_time": "2022-04-29T04:23:09.937794",
     "status": "completed"
    },
    "tags": []
   },
   "outputs": [
    {
     "data": {
      "text/plain": [
       "[<tensorflow.python.keras.layers.convolutional.Conv2D at 0x1aabdbf0808>,\n",
       " <tensorflow.python.keras.layers.normalization_v2.BatchNormalization at 0x1aabdbf0208>,\n",
       " <tensorflow.python.keras.layers.advanced_activations.ReLU at 0x1aabdbbf888>,\n",
       " <tensorflow.python.keras.layers.core.Flatten at 0x1aabd9a3548>]"
      ]
     },
     "execution_count": 25,
     "metadata": {},
     "output_type": "execute_result"
    }
   ],
   "source": [
    "new_model.layers[-5:-1]"
   ]
  },
  {
   "cell_type": "code",
   "execution_count": 26,
   "metadata": {
    "execution": {
     "iopub.execute_input": "2022-04-29T08:42:59.140088Z",
     "iopub.status.busy": "2022-04-29T08:42:59.139752Z",
     "iopub.status.idle": "2022-04-29T08:42:59.155005Z",
     "shell.execute_reply": "2022-04-29T08:42:59.153820Z",
     "shell.execute_reply.started": "2022-04-29T08:42:59.140056Z"
    },
    "papermill": {
     "duration": 0.945657,
     "end_time": "2022-04-29T04:23:12.738271",
     "exception": false,
     "start_time": "2022-04-29T04:23:11.792614",
     "status": "completed"
    },
    "tags": []
   },
   "outputs": [],
   "source": [
    "new_model.compile(Adam(lr=0.0001), loss='categorical_crossentropy', \n",
    " metrics=['accuracy'])"
   ]
  },
  {
   "cell_type": "code",
   "execution_count": 27,
   "metadata": {
    "execution": {
     "iopub.execute_input": "2022-04-29T08:43:00.099990Z",
     "iopub.status.busy": "2022-04-29T08:43:00.099580Z",
     "iopub.status.idle": "2022-04-29T08:43:23.607859Z",
     "shell.execute_reply": "2022-04-29T08:43:23.606960Z",
     "shell.execute_reply.started": "2022-04-29T08:43:00.099952Z"
    },
    "papermill": {
     "duration": 24.140463,
     "end_time": "2022-04-29T04:23:37.935141",
     "exception": false,
     "start_time": "2022-04-29T04:23:13.794678",
     "status": "completed"
    },
    "tags": []
   },
   "outputs": [
    {
     "name": "stdout",
     "output_type": "stream",
     "text": [
      "Epoch 1/5\n",
      "18/18 [==============================] - 6s 277ms/step - loss: 1.2353 - accuracy: 0.5158 - val_loss: 0.3106 - val_accuracy: 0.8833\n",
      "Epoch 2/5\n",
      "18/18 [==============================] - 4s 244ms/step - loss: 0.2688 - accuracy: 0.8658 - val_loss: 0.2292 - val_accuracy: 0.9333\n",
      "Epoch 3/5\n",
      "18/18 [==============================] - 5s 257ms/step - loss: 0.2065 - accuracy: 0.9462 - val_loss: 0.1803 - val_accuracy: 0.9333\n",
      "Epoch 4/5\n",
      "18/18 [==============================] - 4s 240ms/step - loss: 0.2100 - accuracy: 0.8924 - val_loss: 0.1657 - val_accuracy: 0.9833\n",
      "Epoch 5/5\n",
      "18/18 [==============================] - 4s 228ms/step - loss: 0.1153 - accuracy: 0.9540 - val_loss: 0.1879 - val_accuracy: 0.9167\n",
      "\n",
      "\n",
      "Time taken by MobileNetV2: 23.62 seconds\n"
     ]
    }
   ],
   "source": [
    "start_time = time.perf_counter()\n",
    "\n",
    "hist2 = new_model.fit(train_batch, steps_per_epoch=18,\n",
    "             validation_data=val_batch, validation_steps=3, epochs=5,\n",
    "             verbose=1)\n",
    "\n",
    "time2 = round(time.perf_counter() - start_time, 2)\n",
    "print (f'\\n\\nTime taken by MobileNetV2: {time2} seconds')\n"
   ]
  },
  {
   "cell_type": "markdown",
   "metadata": {
    "papermill": {
     "duration": 0.954326,
     "end_time": "2022-04-29T04:23:39.847383",
     "exception": false,
     "start_time": "2022-04-29T04:23:38.893057",
     "status": "completed"
    },
    "tags": []
   },
   "source": [
    "# Accuracy Comparison"
   ]
  },
  {
   "cell_type": "markdown",
   "metadata": {},
   "source": [
    "The accuracy and loss of the two models can be summarized below in the form of a plot."
   ]
  },
  {
   "cell_type": "code",
   "execution_count": 28,
   "metadata": {
    "execution": {
     "iopub.execute_input": "2022-04-29T08:46:55.274316Z",
     "iopub.status.busy": "2022-04-29T08:46:55.273593Z",
     "iopub.status.idle": "2022-04-29T08:46:56.063621Z",
     "shell.execute_reply": "2022-04-29T08:46:56.062473Z",
     "shell.execute_reply.started": "2022-04-29T08:46:55.274269Z"
    },
    "papermill": {
     "duration": 1.780003,
     "end_time": "2022-04-29T04:23:42.579980",
     "exception": false,
     "start_time": "2022-04-29T04:23:40.799977",
     "status": "completed"
    },
    "tags": []
   },
   "outputs": [
    {
     "data": {
      "text/plain": [
       "<matplotlib.legend.Legend at 0x1aac03d2688>"
      ]
     },
     "execution_count": 28,
     "metadata": {},
     "output_type": "execute_result"
    },
    {
     "data": {
      "image/png": "[encoded data removed]",
      "text/plain": [
       "<Figure size 1080x720 with 4 Axes>"
      ]
     },
     "metadata": {
      "needs_background": "light"
     },
     "output_type": "display_data"
    }
   ],
   "source": [
    "fig, axs = plt.subplots(2, 2, figsize=[15, 10])\n",
    "\n",
    "axs[0,0].plot(hist1.history['loss'], label='train loss')\n",
    "axs[0,0].plot(hist1.history['val_loss'], label='val loss')\n",
    "axs[0,0].set_title('VGG16')\n",
    "axs[0,0].legend()\n",
    "\n",
    "axs[1,0].plot(hist1.history['accuracy'], label='train acc')\n",
    "axs[1,0].plot(hist1.history['val_accuracy'], label='val acc')\n",
    "axs[1,0].legend()\n",
    "\n",
    "\n",
    "axs[0,1].plot(hist2.history['loss'], label='train loss')\n",
    "axs[0,1].plot(hist2.history['val_loss'], label='val loss')\n",
    "axs[0,1].set_title('MobileNet')\n",
    "axs[0,1].legend()\n",
    "\n",
    "axs[1,1].plot(hist2.history['accuracy'], label='train acc')\n",
    "axs[1,1].plot(hist2.history['val_accuracy'], label='val acc')\n",
    "axs[1,1].legend()"
   ]
  },
  {
   "cell_type": "markdown",
   "metadata": {
    "papermill": {
     "duration": 0.973821,
     "end_time": "2022-04-29T04:23:44.528612",
     "exception": false,
     "start_time": "2022-04-29T04:23:43.554791",
     "status": "completed"
    },
    "tags": []
   },
   "source": [
    "# Time Comparison among VGG16 & MobileNetV2: which one is faster?"
   ]
  },
  {
   "cell_type": "code",
   "execution_count": 29,
   "metadata": {
    "execution": {
     "iopub.execute_input": "2022-04-29T08:47:43.383221Z",
     "iopub.status.busy": "2022-04-29T08:47:43.382903Z",
     "iopub.status.idle": "2022-04-29T08:47:43.388150Z",
     "shell.execute_reply": "2022-04-29T08:47:43.387457Z",
     "shell.execute_reply.started": "2022-04-29T08:47:43.383191Z"
    },
    "papermill": {
     "duration": 0.998915,
     "end_time": "2022-04-29T04:23:46.525325",
     "exception": false,
     "start_time": "2022-04-29T04:23:45.526410",
     "status": "completed"
    },
    "tags": []
   },
   "outputs": [
    {
     "name": "stdout",
     "output_type": "stream",
     "text": [
      "The time taken by VGG16 is: 88.48 seconds.\n",
      "\n",
      "\n",
      "The time taken by MobileNetV2 is: 23.62 seconds.\n",
      "\n",
      "\n"
     ]
    }
   ],
   "source": [
    "print(f'The time taken by VGG16 is: {time1} seconds.\\n\\n')\n",
    "print(f'The time taken by MobileNetV2 is: {time2} seconds.\\n\\n')"
   ]
  },
  {
   "cell_type": "markdown",
   "metadata": {
    "papermill": {
     "duration": 0.96463,
     "end_time": "2022-04-29T04:23:48.486474",
     "exception": false,
     "start_time": "2022-04-29T04:23:47.521844",
     "status": "completed"
    },
    "tags": []
   },
   "source": [
    "We see that by just running the models for **5 epochs**, MobileNetV2 performs better than VGG16 on this dataset. It even took least amount of time as compared to time taken by VGG16.\n",
    "\n",
    "That's all in this notebook. I hope you like it!"
   ]
  },
  {
   "cell_type": "code",
   "execution_count": null,
   "metadata": {},
   "outputs": [],
   "source": []
  }
 ],
 "metadata": {
  "kernelspec": {
   "display_name": "Python 3 (ipykernel)",
   "language": "python",
   "name": "python3"
  },
  "language_info": {
   "codemirror_mode": {
    "name": "ipython",
    "version": 3
   },
   "file_extension": ".py",
   "mimetype": "text/x-python",
   "name": "python",
   "nbconvert_exporter": "python",
   "pygments_lexer": "ipython3",
   "version": "3.7.11"
  }
 },
 "nbformat": 4,
 "nbformat_minor": 4
}
